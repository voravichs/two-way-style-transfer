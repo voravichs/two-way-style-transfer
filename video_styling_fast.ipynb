{
  "cells": [
    {
      "cell_type": "markdown",
      "metadata": {
        "id": "BGF1HqOXF3mH"
      },
      "source": [
        "# Neural Style Transfer on Video\n",
        "This code adapts the faster style transfer code in the original_fast style script for use in video analysis."
      ]
    },
    {
      "cell_type": "markdown",
      "metadata": {
        "id": "Vv3U3h0C9abb"
      },
      "source": [
        "### Import dependencies and input video"
      ]
    },
    {
      "cell_type": "code",
      "execution_count": null,
      "metadata": {
        "id": "vDUZoENvFkZF"
      },
      "outputs": [],
      "source": [
        "import torch\n",
        "import torch.nn as nn\n",
        "import torch.nn.functional as F\n",
        "import torch.optim as optim\n",
        "\n",
        "from PIL import Image\n",
        "import matplotlib.pyplot as plt\n",
        "\n",
        "import torchvision.transforms as transforms\n",
        "import torchvision.models as models\n",
        "import torchvision.utils as utils\n",
        "\n",
        "# import copy\n",
        "import cv2 # opencv\n",
        "import os\n",
        "\n",
        "import original_fast as nst\n"
      ]
    },
    {
      "cell_type": "markdown",
      "metadata": {
        "id": "3DFupFpb9v9j"
      },
      "source": [
        "### Set GPU acceleration"
      ]
    },
    {
      "cell_type": "code",
      "execution_count": null,
      "metadata": {
        "id": "PTKQ9kaejRKj"
      },
      "outputs": [],
      "source": [
        "device = torch.device(\"cuda\" if torch.cuda.is_available() else \"cpu\")\n",
        "torch.set_default_device(device)\n",
        "print(device)"
      ]
    },
    {
      "cell_type": "markdown",
      "metadata": {
        "id": "hxh_G1lDDcBT"
      },
      "source": [
        "## Show output"
      ]
    },
    {
      "cell_type": "code",
      "execution_count": null,
      "metadata": {
        "colab": {
          "base_uri": "https://localhost:8080/",
          "height": 865
        },
        "id": "XW0QuuwQLekX",
        "outputId": "5aa91f3f-43e1-4d72-811d-17cf8fb72b28"
      },
      "outputs": [],
      "source": [
        "PATH = ''\n",
        "CONTENT_IMAGE = 'frame00000.jpg'\n",
        "STYLE_IMAGE = 'starrynight.jpg'\n",
        "\n",
        "default_resource_dir = os.path.join(PATH, 'videos')\n",
        "content_images_dir = os.path.join(default_resource_dir, 'complex_square_frames')\n",
        "style_images_dir = os.path.join(PATH, 'images/style')\n",
        "output_img_dir = os.path.join(default_resource_dir, 'results_fast/complex_square')\n",
        "img_format = (4, '.jpg')\n",
        "\n",
        "optimization_config = {'content_img_name': CONTENT_IMAGE, 'style_img_name': STYLE_IMAGE, 'height': 400, 'content_weight': 100000.0, 'style_weight': 30000.0, 'tv_weight': 1.0}\n",
        "optimization_config['content_images_dir'] = content_images_dir\n",
        "optimization_config['style_images_dir'] = style_images_dir\n",
        "optimization_config['output_img_dir'] = output_img_dir\n",
        "optimization_config['img_format'] = img_format\n",
        "optimization_config['img_suffix'] = ''\n",
        "\n",
        "results_path = nst.neural_style_transfer(optimization_config)"
      ]
    },
    {
      "cell_type": "code",
      "execution_count": null,
      "metadata": {},
      "outputs": [],
      "source": [
        "# note: hardcoded filenames\n",
        "\n",
        "list_of_frames = sorted(os.listdir('videos/complex_square_frames'))\n",
        "try:\n",
        "    os.mkdir(f'videos/results_fast/complex_square')\n",
        "except FileExistsError:\n",
        "    print('directory already exists')\n",
        "\n",
        "for i, filename in enumerate(list_of_frames):\n",
        "    # if (i < 88):\n",
        "    #     continue\n",
        "    optimization_config['content_img_name'] = filename\n",
        "    results_path = nst.neural_style_transfer(optimization_config)\n",
        "    print(f'iteration {i}')"
      ]
    }
  ],
  "metadata": {
    "accelerator": "GPU",
    "colab": {
      "gpuType": "T4",
      "provenance": [],
      "toc_visible": true
    },
    "kernelspec": {
      "display_name": "Python 3",
      "name": "python3"
    },
    "language_info": {
      "codemirror_mode": {
        "name": "ipython",
        "version": 3
      },
      "file_extension": ".py",
      "mimetype": "text/x-python",
      "name": "python",
      "nbconvert_exporter": "python",
      "pygments_lexer": "ipython3",
      "version": "3.10.11"
    }
  },
  "nbformat": 4,
  "nbformat_minor": 0
}
